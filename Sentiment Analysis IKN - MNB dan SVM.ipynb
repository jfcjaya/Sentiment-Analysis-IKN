{
  "nbformat": 4,
  "nbformat_minor": 0,
  "metadata": {
    "colab": {
      "name": "Sentiment Analysis IKN",
      "provenance": [],
      "collapsed_sections": [
        "pj00XxplfZ8w",
        "lJTRNvOmkvy5"
      ]
    },
    "kernelspec": {
      "name": "python3",
      "display_name": "Python 3"
    },
    "language_info": {
      "name": "python"
    }
  },
  "cells": [
    {
      "cell_type": "markdown",
      "source": [
        "# A. Libraries"
      ],
      "metadata": {
        "id": "ivcNl0UD1p8V"
      }
    },
    {
      "cell_type": "code",
      "source": [
        "!pip install findspark\n",
        "!pip install nltk\n",
        "!pip install -U deep-translator\n",
        "!wget http://setup.johnsnowlabs.com/colab.sh -O - | bash"
      ],
      "metadata": {
        "colab": {
          "base_uri": "https://localhost:8080/"
        },
        "id": "Pgyf5WTc1Ly9",
        "outputId": "3d277570-3497-41d5-ebaa-2d5adb64522a"
      },
      "execution_count": 143,
      "outputs": [
        {
          "output_type": "stream",
          "name": "stdout",
          "text": [
            "Requirement already satisfied: findspark in /usr/local/lib/python3.7/dist-packages (2.0.1)\n",
            "Requirement already satisfied: nltk in /usr/local/lib/python3.7/dist-packages (3.2.5)\n",
            "Requirement already satisfied: six in /usr/local/lib/python3.7/dist-packages (from nltk) (1.15.0)\n",
            "Requirement already satisfied: deep-translator in /usr/local/lib/python3.7/dist-packages (1.8.3)\n",
            "Requirement already satisfied: requests<3.0.0,>=2.23.0 in /usr/local/lib/python3.7/dist-packages (from deep-translator) (2.23.0)\n",
            "Requirement already satisfied: beautifulsoup4<5.0.0,>=4.9.1 in /usr/local/lib/python3.7/dist-packages (from deep-translator) (4.11.1)\n",
            "Requirement already satisfied: soupsieve>1.2 in /usr/local/lib/python3.7/dist-packages (from beautifulsoup4<5.0.0,>=4.9.1->deep-translator) (2.3.2.post1)\n",
            "Requirement already satisfied: urllib3!=1.25.0,!=1.25.1,<1.26,>=1.21.1 in /usr/local/lib/python3.7/dist-packages (from requests<3.0.0,>=2.23.0->deep-translator) (1.24.3)\n",
            "Requirement already satisfied: idna<3,>=2.5 in /usr/local/lib/python3.7/dist-packages (from requests<3.0.0,>=2.23.0->deep-translator) (2.10)\n",
            "Requirement already satisfied: chardet<4,>=3.0.2 in /usr/local/lib/python3.7/dist-packages (from requests<3.0.0,>=2.23.0->deep-translator) (3.0.4)\n",
            "Requirement already satisfied: certifi>=2017.4.17 in /usr/local/lib/python3.7/dist-packages (from requests<3.0.0,>=2.23.0->deep-translator) (2021.10.8)\n",
            "--2022-04-30 16:06:02--  http://setup.johnsnowlabs.com/colab.sh\n",
            "Resolving setup.johnsnowlabs.com (setup.johnsnowlabs.com)... 51.158.130.125\n",
            "Connecting to setup.johnsnowlabs.com (setup.johnsnowlabs.com)|51.158.130.125|:80... connected.\n",
            "HTTP request sent, awaiting response... 302 Found\n",
            "Location: https://setup.johnsnowlabs.com/colab.sh [following]\n",
            "--2022-04-30 16:06:02--  https://setup.johnsnowlabs.com/colab.sh\n",
            "Connecting to setup.johnsnowlabs.com (setup.johnsnowlabs.com)|51.158.130.125|:443... connected.\n",
            "HTTP request sent, awaiting response... 302 Moved Temporarily\n",
            "Location: https://raw.githubusercontent.com/JohnSnowLabs/spark-nlp/master/scripts/colab_setup.sh [following]\n",
            "--2022-04-30 16:06:03--  https://raw.githubusercontent.com/JohnSnowLabs/spark-nlp/master/scripts/colab_setup.sh\n",
            "Resolving raw.githubusercontent.com (raw.githubusercontent.com)... 185.199.110.133, 185.199.111.133, 185.199.108.133, ...\n",
            "Connecting to raw.githubusercontent.com (raw.githubusercontent.com)|185.199.110.133|:443... connected.\n",
            "HTTP request sent, awaiting response... 200 OK\n",
            "Length: 1453 (1.4K) [text/plain]\n",
            "Saving to: ‘STDOUT’\n",
            "\n",
            "-                   100%[===================>]   1.42K  --.-KB/s    in 0s      \n",
            "\n",
            "2022-04-30 16:06:03 (26.2 MB/s) - written to stdout [1453/1453]\n",
            "\n",
            "setup Colab for PySpark 3.0.3 and Spark NLP 3.4.3\n",
            "Installing PySpark 3.0.3 and Spark NLP 3.4.3\n"
          ]
        }
      ]
    },
    {
      "cell_type": "code",
      "execution_count": 144,
      "metadata": {
        "id": "9x16OEx05isf"
      },
      "outputs": [],
      "source": [
        "import copy\n",
        "import findspark\n",
        "import nltk\n",
        "import numpy as np\n",
        "import matplotlib.pyplot as plt\n",
        "import pandas as pd\n",
        "import random\n",
        "import re\n",
        "import sparknlp\n",
        "import string\n",
        "\n",
        "from collections import Counter\n",
        "\n",
        "from gensim.models import Word2Vec\n",
        "from gensim.models.doc2vec import Doc2Vec, TaggedDocument\n",
        "\n",
        "from nltk.corpus import stopwords\n",
        "from nltk.tokenize import word_tokenize\n",
        "\n",
        "from pyspark.sql import SparkSession\n",
        "from pyspark.ml import PipelineModel\n",
        "\n",
        "from sklearn.feature_extraction.text import CountVectorizer, TfidfTransformer\n",
        "from sklearn.metrics import plot_confusion_matrix, accuracy_score, classification_report, precision_score, f1_score, recall_score\n",
        "from sklearn.model_selection import GridSearchCV, train_test_split\n",
        "from sklearn.naive_bayes import MultinomialNB\n",
        "from sklearn.preprocessing import LabelEncoder, MinMaxScaler\n",
        "from sklearn.svm import SVC\n",
        "\n",
        "from sparknlp.annotator import *\n",
        "from sparknlp.common import *\n",
        "from sparknlp.base import *\n",
        "from sparknlp.pretrained import ResourceDownloader\n",
        "\n",
        "from wordcloud import WordCloud\n",
        "\n",
        "import warnings\n",
        "warnings.filterwarnings(\"ignore\")"
      ]
    },
    {
      "cell_type": "code",
      "source": [
        "nltk.download(\"punkt\")\n",
        "nltk.download(\"stopwords\")"
      ],
      "metadata": {
        "colab": {
          "base_uri": "https://localhost:8080/"
        },
        "id": "X0HeU2sS1R_U",
        "outputId": "eccb70f0-e812-4588-b09e-31f4573dcfad"
      },
      "execution_count": 145,
      "outputs": [
        {
          "output_type": "stream",
          "name": "stdout",
          "text": [
            "[nltk_data] Downloading package punkt to /root/nltk_data...\n",
            "[nltk_data]   Package punkt is already up-to-date!\n",
            "[nltk_data] Downloading package stopwords to /root/nltk_data...\n",
            "[nltk_data]   Package stopwords is already up-to-date!\n"
          ]
        },
        {
          "output_type": "execute_result",
          "data": {
            "text/plain": [
              "True"
            ]
          },
          "metadata": {},
          "execution_count": 145
        }
      ]
    },
    {
      "cell_type": "markdown",
      "source": [
        "# B. Dataset"
      ],
      "metadata": {
        "id": "08fN7rz_1sn4"
      }
    },
    {
      "cell_type": "code",
      "source": [
        "column = ['tweet', 'sentiment']"
      ],
      "metadata": {
        "id": "ZHOtjo7W1y-a"
      },
      "execution_count": 146,
      "outputs": []
    },
    {
      "cell_type": "code",
      "source": [
        "def get_data(link):\n",
        "    # read file from given link\n",
        "    temp = pd.read_json(link, orient = \"index\")\n",
        "\n",
        "    # remove unnecessary column\n",
        "    temp = temp[column]\n",
        "\n",
        "    # drop rows with null values\n",
        "    temp = temp.dropna()\n",
        "\n",
        "    # typecast sentiment as int (by default it is float)\n",
        "    temp['sentiment'] = temp['sentiment'].astype(int)\n",
        "\n",
        "    # select only data with sentiment = 1 or -1\n",
        "    temp = temp.loc[(temp['sentiment'] == 1) | (temp['sentiment'] == -1)]\n",
        "    temp.reset_index(drop = True, inplace = True)\n",
        "\n",
        "    return temp"
      ],
      "metadata": {
        "id": "AjefcM3jYkyd"
      },
      "execution_count": 147,
      "outputs": []
    },
    {
      "cell_type": "code",
      "source": [
        "df = get_data(\"https://raw.githubusercontent.com/VinsenN/Sentiment-Analysis-Pemindahan-Ibu-Kota/main/data/IKN.json\")\n",
        "df.head()"
      ],
      "metadata": {
        "colab": {
          "base_uri": "https://localhost:8080/",
          "height": 206
        },
        "id": "7Pvzsy421u9L",
        "outputId": "749d1023-59b9-4119-ebdd-15c57027c6c2"
      },
      "execution_count": 148,
      "outputs": [
        {
          "output_type": "execute_result",
          "data": {
            "text/plain": [
              "                                               tweet  sentiment\n",
              "0  @jokowi saya sangat setuju pak, bahkan lebih s...          1\n",
              "1  @hnurwahid @FPKSDPRRI Saya setuju ibu kota pin...          1\n",
              "2  @MardaniAliSera @FPKSDPRRI Saya dan mayoritas ...          1\n",
              "3  cocok ibu kota pindah ke kalimantan apalagi gu...          1\n",
              "4  @geedeulbeyou1 Jadi, kepada lo yang gak setuju...          1"
            ],
            "text/html": [
              "\n",
              "  <div id=\"df-919e015c-9698-472e-80fd-1e5615b99ff9\">\n",
              "    <div class=\"colab-df-container\">\n",
              "      <div>\n",
              "<style scoped>\n",
              "    .dataframe tbody tr th:only-of-type {\n",
              "        vertical-align: middle;\n",
              "    }\n",
              "\n",
              "    .dataframe tbody tr th {\n",
              "        vertical-align: top;\n",
              "    }\n",
              "\n",
              "    .dataframe thead th {\n",
              "        text-align: right;\n",
              "    }\n",
              "</style>\n",
              "<table border=\"1\" class=\"dataframe\">\n",
              "  <thead>\n",
              "    <tr style=\"text-align: right;\">\n",
              "      <th></th>\n",
              "      <th>tweet</th>\n",
              "      <th>sentiment</th>\n",
              "    </tr>\n",
              "  </thead>\n",
              "  <tbody>\n",
              "    <tr>\n",
              "      <th>0</th>\n",
              "      <td>@jokowi saya sangat setuju pak, bahkan lebih s...</td>\n",
              "      <td>1</td>\n",
              "    </tr>\n",
              "    <tr>\n",
              "      <th>1</th>\n",
              "      <td>@hnurwahid @FPKSDPRRI Saya setuju ibu kota pin...</td>\n",
              "      <td>1</td>\n",
              "    </tr>\n",
              "    <tr>\n",
              "      <th>2</th>\n",
              "      <td>@MardaniAliSera @FPKSDPRRI Saya dan mayoritas ...</td>\n",
              "      <td>1</td>\n",
              "    </tr>\n",
              "    <tr>\n",
              "      <th>3</th>\n",
              "      <td>cocok ibu kota pindah ke kalimantan apalagi gu...</td>\n",
              "      <td>1</td>\n",
              "    </tr>\n",
              "    <tr>\n",
              "      <th>4</th>\n",
              "      <td>@geedeulbeyou1 Jadi, kepada lo yang gak setuju...</td>\n",
              "      <td>1</td>\n",
              "    </tr>\n",
              "  </tbody>\n",
              "</table>\n",
              "</div>\n",
              "      <button class=\"colab-df-convert\" onclick=\"convertToInteractive('df-919e015c-9698-472e-80fd-1e5615b99ff9')\"\n",
              "              title=\"Convert this dataframe to an interactive table.\"\n",
              "              style=\"display:none;\">\n",
              "        \n",
              "  <svg xmlns=\"http://www.w3.org/2000/svg\" height=\"24px\"viewBox=\"0 0 24 24\"\n",
              "       width=\"24px\">\n",
              "    <path d=\"M0 0h24v24H0V0z\" fill=\"none\"/>\n",
              "    <path d=\"M18.56 5.44l.94 2.06.94-2.06 2.06-.94-2.06-.94-.94-2.06-.94 2.06-2.06.94zm-11 1L8.5 8.5l.94-2.06 2.06-.94-2.06-.94L8.5 2.5l-.94 2.06-2.06.94zm10 10l.94 2.06.94-2.06 2.06-.94-2.06-.94-.94-2.06-.94 2.06-2.06.94z\"/><path d=\"M17.41 7.96l-1.37-1.37c-.4-.4-.92-.59-1.43-.59-.52 0-1.04.2-1.43.59L10.3 9.45l-7.72 7.72c-.78.78-.78 2.05 0 2.83L4 21.41c.39.39.9.59 1.41.59.51 0 1.02-.2 1.41-.59l7.78-7.78 2.81-2.81c.8-.78.8-2.07 0-2.86zM5.41 20L4 18.59l7.72-7.72 1.47 1.35L5.41 20z\"/>\n",
              "  </svg>\n",
              "      </button>\n",
              "      \n",
              "  <style>\n",
              "    .colab-df-container {\n",
              "      display:flex;\n",
              "      flex-wrap:wrap;\n",
              "      gap: 12px;\n",
              "    }\n",
              "\n",
              "    .colab-df-convert {\n",
              "      background-color: #E8F0FE;\n",
              "      border: none;\n",
              "      border-radius: 50%;\n",
              "      cursor: pointer;\n",
              "      display: none;\n",
              "      fill: #1967D2;\n",
              "      height: 32px;\n",
              "      padding: 0 0 0 0;\n",
              "      width: 32px;\n",
              "    }\n",
              "\n",
              "    .colab-df-convert:hover {\n",
              "      background-color: #E2EBFA;\n",
              "      box-shadow: 0px 1px 2px rgba(60, 64, 67, 0.3), 0px 1px 3px 1px rgba(60, 64, 67, 0.15);\n",
              "      fill: #174EA6;\n",
              "    }\n",
              "\n",
              "    [theme=dark] .colab-df-convert {\n",
              "      background-color: #3B4455;\n",
              "      fill: #D2E3FC;\n",
              "    }\n",
              "\n",
              "    [theme=dark] .colab-df-convert:hover {\n",
              "      background-color: #434B5C;\n",
              "      box-shadow: 0px 1px 3px 1px rgba(0, 0, 0, 0.15);\n",
              "      filter: drop-shadow(0px 1px 2px rgba(0, 0, 0, 0.3));\n",
              "      fill: #FFFFFF;\n",
              "    }\n",
              "  </style>\n",
              "\n",
              "      <script>\n",
              "        const buttonEl =\n",
              "          document.querySelector('#df-919e015c-9698-472e-80fd-1e5615b99ff9 button.colab-df-convert');\n",
              "        buttonEl.style.display =\n",
              "          google.colab.kernel.accessAllowed ? 'block' : 'none';\n",
              "\n",
              "        async function convertToInteractive(key) {\n",
              "          const element = document.querySelector('#df-919e015c-9698-472e-80fd-1e5615b99ff9');\n",
              "          const dataTable =\n",
              "            await google.colab.kernel.invokeFunction('convertToInteractive',\n",
              "                                                     [key], {});\n",
              "          if (!dataTable) return;\n",
              "\n",
              "          const docLinkHtml = 'Like what you see? Visit the ' +\n",
              "            '<a target=\"_blank\" href=https://colab.research.google.com/notebooks/data_table.ipynb>data table notebook</a>'\n",
              "            + ' to learn more about interactive tables.';\n",
              "          element.innerHTML = '';\n",
              "          dataTable['output_type'] = 'display_data';\n",
              "          await google.colab.output.renderOutput(dataTable, element);\n",
              "          const docLink = document.createElement('div');\n",
              "          docLink.innerHTML = docLinkHtml;\n",
              "          element.appendChild(docLink);\n",
              "        }\n",
              "      </script>\n",
              "    </div>\n",
              "  </div>\n",
              "  "
            ]
          },
          "metadata": {},
          "execution_count": 148
        }
      ]
    },
    {
      "cell_type": "code",
      "source": [
        "fig = plt.figure(figsize = (20, 15))\n",
        "df.groupby('sentiment').count().plot.bar()"
      ],
      "metadata": {
        "colab": {
          "base_uri": "https://localhost:8080/",
          "height": 314
        },
        "id": "3RZyA6g42Itq",
        "outputId": "ad38f06b-98ef-47ba-9c07-7e0b6d5b8751"
      },
      "execution_count": 149,
      "outputs": [
        {
          "output_type": "execute_result",
          "data": {
            "text/plain": [
              "<matplotlib.axes._subplots.AxesSubplot at 0x7f94af55bf10>"
            ]
          },
          "metadata": {},
          "execution_count": 149
        },
        {
          "output_type": "display_data",
          "data": {
            "text/plain": [
              "<Figure size 1440x1080 with 0 Axes>"
            ]
          },
          "metadata": {}
        },
        {
          "output_type": "display_data",
          "data": {
            "text/plain": [
              "<Figure size 432x288 with 1 Axes>"
            ],
            "image/png": "[encoded data removed]"
          },
          "metadata": {
            "needs_background": "light"
          }
        }
      ]
    },
    {
      "cell_type": "markdown",
      "source": [
        "# C. Preprocess - Basic"
      ],
      "metadata": {
        "id": "oCFj4rjJ3Xxz"
      }
    },
    {
      "cell_type": "code",
      "source": [
        "# harga     emas      -> harga emas\n",
        "def remove_redundant_space(text):\n",
        "    # trailing spaces\n",
        "    text = re.sub(\" +$\", \"\", text)\n",
        "    # leading spaces\n",
        "    text = re.sub(\"^ +\", \"\", text)\n",
        "    # redundant spaces\n",
        "    text = re.sub(\" +\", \" \", text)\n",
        "    return text"
      ],
      "metadata": {
        "id": "a7zCepPk3pel"
      },
      "execution_count": 150,
      "outputs": []
    },
    {
      "cell_type": "code",
      "source": [
        "def remove_mention(text):\n",
        "    return re.sub(\"@\\S+\", \" \", text)"
      ],
      "metadata": {
        "id": "UDq4qBfr3xY5"
      },
      "execution_count": 151,
      "outputs": []
    },
    {
      "cell_type": "code",
      "source": [
        "def remove_hashtag(text):\n",
        "    return re.sub(\"#\\S+\", \" \", text)"
      ],
      "metadata": {
        "id": "mWW2HwLu3z5c"
      },
      "execution_count": 152,
      "outputs": []
    },
    {
      "cell_type": "code",
      "source": [
        "# emojis, dll\n",
        "def remove_special_char(text):\n",
        "    return re.sub(r\"[^a-zA-z0-9.,!?/:;\\\"\\'\\s]\" , \" \", text)"
      ],
      "metadata": {
        "id": "qDnzdkAT31E3"
      },
      "execution_count": 153,
      "outputs": []
    },
    {
      "cell_type": "code",
      "source": [
        "def remove_num(text):\n",
        "    return re.sub(r\"\\d+\", \" \", text)"
      ],
      "metadata": {
        "id": "7vAEpkuN32jq"
      },
      "execution_count": 154,
      "outputs": []
    },
    {
      "cell_type": "code",
      "source": [
        "# hello! -> hello\n",
        "def remove_punctuation(text):\n",
        "    text = re.sub(\"_\", \" \", text)\n",
        "    text = re.sub(\"_+\", \" \", text)\n",
        "    text = re.sub(r\"[^\\w\\s]\", \" \", text)\n",
        "    return text;"
      ],
      "metadata": {
        "id": "0muLlEo834OC"
      },
      "execution_count": 155,
      "outputs": []
    },
    {
      "cell_type": "code",
      "source": [
        "def preprocess_basic(text):\n",
        "    text = remove_mention(text)\n",
        "    text = remove_hashtag(text)\n",
        "    text = remove_special_char(text)\n",
        "    text = remove_punctuation(text)\n",
        "    text = remove_num(text)\n",
        "    text = text.lower()\n",
        "    text = remove_redundant_space(text)\n",
        "    return text"
      ],
      "metadata": {
        "id": "fHoUr3Fm4gJA"
      },
      "execution_count": 156,
      "outputs": []
    },
    {
      "cell_type": "code",
      "source": [
        "testing_text = \"       !\\\"#$%&\\'()*+,-./:;<=>?@[\\]^_`{|}~ HALO   🤣   Halo123 Halo     123 halo 😪😪😪😪 (Test) #IKN #Ibu_Kota_Negara @Vinsen_Nawir @Emmanuel_Henry     \"\n",
        "print(preprocess_basic(testing_text))"
      ],
      "metadata": {
        "colab": {
          "base_uri": "https://localhost:8080/"
        },
        "id": "zxRnHdmP4dLi",
        "outputId": "135f0d69-e3da-497f-e5fe-65c2fb9e4024"
      },
      "execution_count": 157,
      "outputs": [
        {
          "output_type": "stream",
          "name": "stdout",
          "text": [
            "halo halo halo halo test\n"
          ]
        }
      ]
    },
    {
      "cell_type": "markdown",
      "source": [
        "# D. Preprocess - More"
      ],
      "metadata": {
        "id": "KmuwEG3q55Vr"
      }
    },
    {
      "cell_type": "markdown",
      "source": [
        "### Remove insignificant words"
      ],
      "metadata": {
        "id": "I4voNkQNJN3o"
      }
    },
    {
      "cell_type": "markdown",
      "source": [
        "We define insignificant words as the word that has less occurence than a predefined threshold."
      ],
      "metadata": {
        "id": "BTuFXgxAJS35"
      }
    },
    {
      "cell_type": "code",
      "source": [
        "def remove_noise(text: str, \n",
        "                 freq: Counter, \n",
        "                 threshold: int):\n",
        "    \n",
        "    text = \" \".join([word for word in text.split()\n",
        "                     if freq[word] >= threshold])\n",
        "    return remove_redundant_space(text)"
      ],
      "metadata": {
        "id": "lomUNQ_cJL6a"
      },
      "execution_count": 158,
      "outputs": []
    },
    {
      "cell_type": "markdown",
      "source": [
        "### Remove slangs and abbreviations"
      ],
      "metadata": {
        "id": "XkwDhsB95-Us"
      }
    },
    {
      "cell_type": "code",
      "source": [
        "dict1 = pd.read_csv(\"https://raw.githubusercontent.com/okkyibrohim/id-multi-label-hate-speech-and-abusive-language-detection/master/new_kamusalay.csv\", encoding = \"ISO-8859-1\")\n",
        "dict2 = pd.read_csv(\"https://raw.githubusercontent.com/nasalsabila/kamus-alay/master/colloquial-indonesian-lexicon.csv\")\n",
        "dict3 = pd.read_csv(\"https://raw.githubusercontent.com/VinsenN/Sentiment-Analysis-Pemindahan-Ibu-Kota/main/data/slang/custom-slang.csv\")"
      ],
      "metadata": {
        "id": "f5VNmCgQ59bS"
      },
      "execution_count": 159,
      "outputs": []
    },
    {
      "cell_type": "code",
      "source": [
        "columns = ['slang', 'formal']\n",
        "dict1.columns = columns\n",
        "dict2 = dict2[columns]\n",
        "dict3.columns = columns\n",
        "\n",
        "# Combine all dictionaries\n",
        "dict1 = dict1.append(dict2)\n",
        "dict1 = dict1.append(dict3)\n",
        "\n",
        "# Remove duplicate values\n",
        "dict1.sort_values('slang', inplace = True)\n",
        "dict1.drop_duplicates(subset = columns, keep = False, inplace = True)\n",
        "\n",
        "# Convert into python dict\n",
        "kata_gaul = pd.Series(dict1['formal'].values, index = dict1['slang']).to_dict()"
      ],
      "metadata": {
        "id": "Jcyo6mnf6z3D"
      },
      "execution_count": 160,
      "outputs": []
    },
    {
      "cell_type": "code",
      "source": [
        "def normalize_slang(text):\n",
        "    return \" \".join([kata_gaul[word] if word in kata_gaul\n",
        "                     else word\n",
        "                     for word in text.split(' ')])"
      ],
      "metadata": {
        "id": "3uuatlGC7N9B"
      },
      "execution_count": 161,
      "outputs": []
    },
    {
      "cell_type": "markdown",
      "source": [
        "### Remove stopwords"
      ],
      "metadata": {
        "id": "AYjs1xM17h1-"
      }
    },
    {
      "cell_type": "code",
      "source": [
        "# Creating stopword dictionary\n",
        "stopword_list = stopwords.words('indonesian')\n",
        "whitelist = ['tidak', 'bukan', 'enggak', 'daripada', 'melainkan']\n",
        "blacklist = ['jokowi', 'joko', 'widodo', 'ahok', 'rocky', 'gerung', 'pks', 'partai', 'keadilan', 'sejahtera', 'oligarki', 'kalimantan', 'jawa', 'jakarta', 'jkt', 'papua']\n",
        "\n",
        "for word in whitelist:\n",
        "    stopword_list.remove(word)\n",
        "\n",
        "for word in blacklist:\n",
        "    stopword_list.append(word)"
      ],
      "metadata": {
        "id": "zux_7fPZ7rWx"
      },
      "execution_count": 162,
      "outputs": []
    },
    {
      "cell_type": "code",
      "source": [
        "def remove_stopword(text):\n",
        "    text = ' '.join([word if word not in stopword_list\n",
        "                     else \"\"\n",
        "                     for word in text.split(' ')])\n",
        "    return remove_redundant_space(text)"
      ],
      "metadata": {
        "id": "kl9ARnWx74Fo"
      },
      "execution_count": 163,
      "outputs": []
    },
    {
      "cell_type": "code",
      "source": [
        "testing_text = \"sebagai presiden indonesia saya tidak setuju dengan pernyataan anda\"\n",
        "print(remove_stopword(testing_text))"
      ],
      "metadata": {
        "colab": {
          "base_uri": "https://localhost:8080/"
        },
        "id": "2iVgTvOI9ER1",
        "outputId": "7b82bd8e-0dbd-41b6-c2ba-5f0be4c07354"
      },
      "execution_count": 164,
      "outputs": [
        {
          "output_type": "stream",
          "name": "stdout",
          "text": [
            "presiden indonesia tidak setuju pernyataan\n"
          ]
        }
      ]
    },
    {
      "cell_type": "markdown",
      "source": [
        "### Lemmatization"
      ],
      "metadata": {
        "id": "BI1cSz0U8FOB"
      }
    },
    {
      "cell_type": "code",
      "source": [
        "findspark.init()\n",
        "spark = sparknlp.start()\n",
        "print(\"Spark NLP version: \", sparknlp.version())\n",
        "print(\"Apache Spark version: \", spark.version)"
      ],
      "metadata": {
        "colab": {
          "base_uri": "https://localhost:8080/"
        },
        "id": "kbEjQDKS8Wt2",
        "outputId": "b6cc3fc7-9689-4669-8528-736edcfcf40b"
      },
      "execution_count": 165,
      "outputs": [
        {
          "output_type": "stream",
          "name": "stdout",
          "text": [
            "Spark NLP version:  3.4.3\n",
            "Apache Spark version:  3.0.3\n"
          ]
        }
      ]
    },
    {
      "cell_type": "code",
      "source": [
        "# Create pipeline according to demo as shown below\n",
        "# https://nlp.johnsnowlabs.com/2022/03/31/lemma_csui_id_3_0.html\n",
        "\n",
        "document = DocumentAssembler().setInputCol(\"text\").setOutputCol(\"document\")\n",
        "sentence = SentenceDetectorDLModel.pretrained(\"sentence_detector_dl\", \"xx\").setInputCols([\"document\"]).setOutputCol(\"sentence\")\n",
        "tokenizer = Tokenizer().setInputCols([\"sentence\"]).setOutputCol(\"token\")\n",
        "lemma = LemmatizerModel.pretrained(\"lemma_csui\", \"id\").setInputCols([\"sentence\", \"token\"]).setOutputCol(\"lemma\")\n",
        "pipeline = Pipeline(stages=[document, sentence, tokenizer, lemma])"
      ],
      "metadata": {
        "colab": {
          "base_uri": "https://localhost:8080/"
        },
        "id": "KL1uvD-t8tfH",
        "outputId": "08273f4e-7dbe-4a42-c36a-48854a6c3e25"
      },
      "execution_count": 166,
      "outputs": [
        {
          "output_type": "stream",
          "name": "stdout",
          "text": [
            "sentence_detector_dl download started this may take some time.\n",
            "Approximate size to download 514.9 KB\n",
            "[OK!]\n",
            "lemma_csui download started this may take some time.\n",
            "Approximate size to download 85.5 KB\n",
            "[OK!]\n"
          ]
        }
      ]
    },
    {
      "cell_type": "code",
      "source": [
        "def lemmatize(txt):\n",
        "    data = spark.createDataFrame([[txt]]).toDF(\"text\")\n",
        "    result = pipeline.fit(data).transform(data)\n",
        "\n",
        "    lemma_stc = []\n",
        "    for x in result.head().lemma[1:]:\n",
        "        lemma_stc.append(x.result)\n",
        "    return (\" \".join(lemma_stc))"
      ],
      "metadata": {
        "id": "PauGFvtT9ZU7"
      },
      "execution_count": 167,
      "outputs": []
    },
    {
      "cell_type": "code",
      "source": [
        "testing_text = \"presiden indonesia joko widodo melakukan pengesahan persetujuan pernyataan pemindahan ibu kota negara\"\n",
        "print(lemmatize(testing_text))"
      ],
      "metadata": {
        "id": "hmNFOEiy9b43",
        "colab": {
          "base_uri": "https://localhost:8080/"
        },
        "outputId": "8e38f6b8-10fa-489f-ea3b-69af0aec8bcb"
      },
      "execution_count": 168,
      "outputs": [
        {
          "output_type": "stream",
          "name": "stdout",
          "text": [
            "presiden indonesia joko widodo laku pengesahan setuju pernyataan pemindahan ibu kota negara\n"
          ]
        }
      ]
    },
    {
      "cell_type": "markdown",
      "source": [
        "### Combining all preprocessing methods"
      ],
      "metadata": {
        "id": "QmSFjtVtwDP4"
      }
    },
    {
      "cell_type": "code",
      "source": [
        "def preprocess_advanced(text: str,\n",
        "                        freq: Counter,\n",
        "                        threshold: int):\n",
        "    text = remove_noise(text, freq, threshold)\n",
        "    text = normalize_slang(text)\n",
        "    text = remove_stopword(text)\n",
        "    text = lemmatize(text)\n",
        "    return text"
      ],
      "metadata": {
        "id": "ca6-_wvbvEyd"
      },
      "execution_count": 169,
      "outputs": []
    },
    {
      "cell_type": "code",
      "source": [
        "def count_frequency(data: pd.DataFrame):\n",
        "        # generate word frequency table\n",
        "        word_list = []\n",
        "        for tweet in data['tweet']:\n",
        "            for word in tweet.split():\n",
        "                word_list.append(word)\n",
        "        \n",
        "        return Counter(word_list)"
      ],
      "metadata": {
        "id": "8PyXp9Uyvlgc"
      },
      "execution_count": 170,
      "outputs": []
    },
    {
      "cell_type": "code",
      "source": [
        "def preprocess(data: pd.DataFrame, threshold: int):\n",
        "    clean = copy.deepcopy(data)\n",
        "    counter = count_frequency(clean)\n",
        "    clean['tweet'] = clean['tweet'].apply(preprocess_basic)\n",
        "    clean['tweet'] = clean['tweet'].apply(preprocess_advanced, args =  (counter, threshold))\n",
        "    return clean"
      ],
      "metadata": {
        "id": "qVpQpbmdtuXm"
      },
      "execution_count": 171,
      "outputs": []
    },
    {
      "cell_type": "markdown",
      "source": [
        "# E. Model Creation"
      ],
      "metadata": {
        "id": "0STHRRHzwSBh"
      }
    },
    {
      "cell_type": "code",
      "source": [
        "def get_w2v_arr(tokenized_x, **kwargs):\n",
        "    w2v_model = Word2Vec(\n",
        "                    tokenized_x, \n",
        "                    size = kwargs['size'], \n",
        "                    min_count = kwargs['min_count'], \n",
        "                    window = kwargs['window'], \n",
        "                    workers = 4, \n",
        "                    sg = 1, \n",
        "                    alpha = 0.01, \n",
        "                    min_alpha = 0.0001, \n",
        "                    seed = 777\n",
        "                )\n",
        "\n",
        "    res = np.zeros((len(tokenized_x), kwargs['size']))\n",
        "    for i in range(len(tokenized_x)):\n",
        "        for word in tokenized_x[i]:\n",
        "            try:\n",
        "                res[i] += w2v_model[word]\n",
        "            except KeyError:\n",
        "                continue\n",
        "\n",
        "    if kwargs['scaling'] == 1:\n",
        "        res = MinMaxScaler().fit_transform(res)\n",
        "    return res"
      ],
      "metadata": {
        "id": "YKFZfMzyCyP4"
      },
      "execution_count": 172,
      "outputs": []
    },
    {
      "cell_type": "code",
      "source": [
        "def get_d2v_arr(tokenized_x, **kwargs):\n",
        "    d2v_model = Doc2Vec(\n",
        "                    size = kwargs['size'], \n",
        "                    alpha = kwargs['alpha'], \n",
        "                    min_alpha = 0.00025, \n",
        "                    min_count = 1, \n",
        "                    dm = 1\n",
        "                )\n",
        "    d2v_model.build_vocab(tokenized_x)\n",
        "\n",
        "    for epoch in range(kwargs['max_epochs']):\n",
        "        d2v_model.train(tokenized_x, total_examples = d2v_model.corpus_count, epochs=d2v_model.iter)\n",
        "        d2v_model.alpha -= 0.0002 # decrease the learning rate\n",
        "        d2v_model.min_alpha = d2v_model.alpha # fix the learning rate, no decay\n",
        "    \n",
        "    res = np.zeros((len(tokenized_x), kwargs['size']))\n",
        "    for i in range(len(tokenized_x)):\n",
        "        res[i] = d2v_model.docvecs[i]\n",
        "    \n",
        "    if kwargs['scaling'] == 1:\n",
        "        res = MinMaxScaler().fit_transform(x_d2v)\n",
        "    return res"
      ],
      "metadata": {
        "id": "pkDX7bFW3pWx"
      },
      "execution_count": 173,
      "outputs": []
    },
    {
      "cell_type": "code",
      "source": [
        "class SKLearn_Model:\n",
        "    def __init__(self, \n",
        "                 data: pd.DataFrame, \n",
        "                 split: float, \n",
        "                 feature: str, \n",
        "                 model_type: str, \n",
        "                 **kwargs):\n",
        "        \n",
        "        # initialize parameter\n",
        "        self.data = data\n",
        "        self.split = split\n",
        "        self.feature = feature\n",
        "        self.model_type = model_type\n",
        "        self.kwargs = kwargs\n",
        "       \n",
        "        # separate features and label\n",
        "        self.x = self.data['tweet']\n",
        "        self.y = self.data['sentiment']\n",
        "\n",
        "        # feature extraction\n",
        "        self.x_train, self.x_test, self.y_train, self.y_test = self._create_feature()\n",
        "\n",
        "        # create model\n",
        "        self._train_model()\n",
        "    \n",
        "    def _create_feature(self):\n",
        "        x = self.x\n",
        "        y = self.y\n",
        "\n",
        "        if self.feature == \"tf-idf\":\n",
        "            x_train, x_test, y_train, y_test = train_test_split(\n",
        "                                                    x, y, \n",
        "                                                    test_size = self.split,\n",
        "                                                    random_state = 777, # lucky number\n",
        "                                                    stratify = y\n",
        "                                               )\n",
        "\n",
        "            tfidf = TfidfTransformer()\n",
        "            count_vect = CountVectorizer()\n",
        "            x_train_word_counts = count_vect.fit_transform(x_train)\n",
        "            x_train = tfidf.fit_transform(x_train_word_counts)\n",
        "            x_test = count_vect.transform(x_test)\n",
        "\n",
        "\n",
        "        elif self.feature == \"w2v\":\n",
        "            w2v_param = {\n",
        "                'size': 300,\n",
        "                'min_count': 2,\n",
        "                'window': 1,\n",
        "                'scaling': 0\n",
        "            }\n",
        "\n",
        "            if 'w2v_param' in self.kwargs:\n",
        "                w2v_param = self.kwargs['w2v_param']\n",
        "\n",
        "            x_token = x.apply(lambda x: x.split())\n",
        "            x_token = x_token.reset_index(drop = True)\n",
        "\n",
        "            w2v_x = get_w2v_arr(x_token, **w2v_param)\n",
        "\n",
        "            x_train, x_test, y_train, y_test = train_test_split(\n",
        "                                                    w2v_x, y, \n",
        "                                                    test_size = self.split,\n",
        "                                                    random_state = 777, # lucky number\n",
        "                                                    stratify = y\n",
        "                                               )\n",
        "        \n",
        "        elif self.feature == \"d2v\":\n",
        "            d2v_param = {\n",
        "                'size': 200,\n",
        "                'max_epochs': 50,\n",
        "                'alpha': 0.025,\n",
        "                'scaling': 0\n",
        "            }\n",
        "\n",
        "            if 'd2v_param' in self.kwargs:\n",
        "                w2v_param = self.kwargs['w2v_param']\n",
        "            \n",
        "            x_tag_token = [TaggedDocument(words=word_tokenize(w), tags=[str(i)]) for i, w in enumerate(x)]\n",
        "            d2v_x = get_d2v_arr(x_tag_token, **d2v_param)\n",
        "\n",
        "            x_train, x_test, y_train, y_test = train_test_split(\n",
        "                                                    d2v_x, y, \n",
        "                                                    test_size = self.split,\n",
        "                                                    random_state = 777, # lucky number\n",
        "                                                    stratify = y\n",
        "                                               )     \n",
        "\n",
        "        return [x_train, x_test, y_train, y_test]\n",
        "\n",
        "    def _train_model(self):\n",
        "        if self.model_type == \"mnb\":\n",
        "            # set default grid search parameter\n",
        "            self.mnb_param = {\n",
        "                'alpha': [0.0001, 0.01, 1.0],\n",
        "                'fit_prior': [True, False],\n",
        "            }\n",
        "            # if custom parameter exists, use it instead\n",
        "            if 'mnb_param' in self.kwargs:\n",
        "                self.mnb_param = self.kwargs['mnb_param']\n",
        "            \n",
        "            mnb = MultinomialNB().fit(self.x_train, self.y_train)\n",
        "            mnb_grid = GridSearchCV(mnb, param_grid = self.mnb_param, scoring = \"accuracy\", n_jobs = -1)\n",
        "\n",
        "            %time mnb_grid.fit(self.x_train, self.y_train)\n",
        "            self.best_params = mnb_grid.best_params_\n",
        "\n",
        "            self.model = MultinomialNB(**self.best_params)\n",
        "            self.model.fit(self.x_train, self.y_train)\n",
        "\n",
        "        elif self.model_type == \"svm\":\n",
        "            # set default grid search parameter\n",
        "            self.svm_param = {\n",
        "                'C': [0.01, 0.1, 1, 10, 100],\n",
        "                'kernel': [\"linear\", \"rbf\"],\n",
        "                'gamma': [0.001, 0.01, 0.1, 1, 10, 'auto']\n",
        "            }\n",
        "            # if custom parameter exists, use it instead\n",
        "            if 'svm_param' in self.kwargs:\n",
        "                self.svm_param = self.kwargs['svm_param']\n",
        "\n",
        "            svm = SVC().fit(self.x_train, self.y_train)\n",
        "            svm_grid = GridSearchCV(svm, param_grid = self.svm_param, scoring = \"accuracy\", n_jobs = -1)\n",
        "\n",
        "            %time svm_grid.fit(self.x_train, self.y_train)\n",
        "            self.best_params = svm_grid.best_params_\n",
        "\n",
        "            self.model = SVC(**self.best_params)\n",
        "            self.model.fit(self.x_train, self.y_train)\n",
        "    \n",
        "    def evaluate_model(self):\n",
        "        print(\"\\nBest Parameter\")\n",
        "        print(\"=====================================================\")\n",
        "        print(self.best_params)\n",
        "        \n",
        "        y_pred = self.model.predict(self.x_train)\n",
        "        print(\"\\nTraining Dataset\")\n",
        "        print(\"=====================================================\")\n",
        "        print(f\"accuracy score  : {accuracy_score(self.y_train, y_pred) * 100}\")\n",
        "        print(f\"precision score : {precision_score(self.y_train, y_pred, average = 'macro') * 100}\")\n",
        "        print(f\"recall score    : {recall_score(self.y_train, y_pred, average = 'macro') * 100}\")\n",
        "        print(f\"f1-score        : {f1_score(self.y_train, y_pred, average = 'macro') * 100}\")\n",
        "\n",
        "        y_pred = self.model.predict(self.x_test)\n",
        "        print(\"\\nTesting Dataset\")\n",
        "        print(\"=====================================================\")\n",
        "        plot_confusion_matrix(self.model, self.x_test, self.y_test)\n",
        "        print(f\"accuracy score  : {accuracy_score(self.y_test, y_pred) * 100}\")\n",
        "        print(f\"precision score : {precision_score(self.y_test, y_pred, average = 'macro') * 100}\")\n",
        "        print(f\"recall score    : {recall_score(self.y_test, y_pred, average = 'macro') * 100}\")\n",
        "        print(f\"f1-score        : {f1_score(self.y_test, y_pred, average = 'macro') * 100}\")\n",
        "        print(\"\\n\")"
      ],
      "metadata": {
        "id": "fLGeJ-iTwV6J"
      },
      "execution_count": 174,
      "outputs": []
    },
    {
      "cell_type": "markdown",
      "source": [
        "# F. Evaluation"
      ],
      "metadata": {
        "id": "jSc4AH8MwMwA"
      }
    },
    {
      "cell_type": "code",
      "source": [
        "dataset = preprocess(df, 5)\n",
        "dataset_10 = preprocess(df, 10)"
      ],
      "metadata": {
        "id": "8vuWvA6XwPA1"
      },
      "execution_count": 175,
      "outputs": []
    },
    {
      "cell_type": "markdown",
      "source": [
        "### MNB with TF-IDF\n"
      ],
      "metadata": {
        "id": "pj00XxplfZ8w"
      }
    },
    {
      "cell_type": "code",
      "source": [
        "model = SKLearn_Model(dataset, 0.2, \"tf-idf\", \"mnb\")\n",
        "model.evaluate_model()"
      ],
      "metadata": {
        "colab": {
          "base_uri": "https://localhost:8080/",
          "height": 665
        },
        "id": "ImJYNSwQfbFK",
        "outputId": "d776be56-cc2f-41bf-b990-9cea9f17c2eb"
      },
      "execution_count": 176,
      "outputs": [
        {
          "output_type": "stream",
          "name": "stdout",
          "text": [
            "CPU times: user 145 ms, sys: 33.7 ms, total: 179 ms\n",
            "Wall time: 1.91 s\n",
            "\n",
            "Best Parameter\n",
            "=====================================================\n",
            "{'alpha': 1.0, 'fit_prior': True}\n",
            "\n",
            "Training Dataset\n",
            "=====================================================\n",
            "accuracy score  : 78.57142857142857\n",
            "precision score : 77.7928990503841\n",
            "recall score    : 77.09316037735849\n",
            "f1-score        : 77.38196464533453\n",
            "\n",
            "Testing Dataset\n",
            "=====================================================\n",
            "accuracy score  : 80.59701492537313\n",
            "precision score : 80.74866310160428\n",
            "recall score    : 81.94444444444444\n",
            "f1-score        : 80.44015270604086\n",
            "\n",
            "\n"
          ]
        },
        {
          "output_type": "display_data",
          "data": {
            "text/plain": [
              "<Figure size 432x288 with 2 Axes>"
            ],
            "image/png": "[encoded data removed]"
          },
          "metadata": {
            "needs_background": "light"
          }
        }
      ]
    },
    {
      "cell_type": "code",
      "source": [
        "model = SKLearn_Model(dataset, 0.3, \"tf-idf\", \"mnb\")\n",
        "model.evaluate_model()"
      ],
      "metadata": {
        "colab": {
          "base_uri": "https://localhost:8080/",
          "height": 665
        },
        "id": "J-O6BCBFi-OI",
        "outputId": "855e2754-7041-4568-b073-292001b85e92"
      },
      "execution_count": 177,
      "outputs": [
        {
          "output_type": "stream",
          "name": "stdout",
          "text": [
            "CPU times: user 72.3 ms, sys: 1.19 ms, total: 73.5 ms\n",
            "Wall time: 131 ms\n",
            "\n",
            "Best Parameter\n",
            "=====================================================\n",
            "{'alpha': 1.0, 'fit_prior': False}\n",
            "\n",
            "Training Dataset\n",
            "=====================================================\n",
            "accuracy score  : 77.6824034334764\n",
            "precision score : 78.82558312286436\n",
            "recall score    : 79.80414746543778\n",
            "f1-score        : 77.61271249076127\n",
            "\n",
            "Testing Dataset\n",
            "=====================================================\n",
            "accuracy score  : 81.0\n",
            "precision score : 81.2124849939976\n",
            "recall score    : 82.5\n",
            "f1-score        : 80.84484323016434\n",
            "\n",
            "\n"
          ]
        },
        {
          "output_type": "display_data",
          "data": {
            "text/plain": [
              "<Figure size 432x288 with 2 Axes>"
            ],
            "image/png": "[encoded data removed]"
          },
          "metadata": {
            "needs_background": "light"
          }
        }
      ]
    },
    {
      "cell_type": "code",
      "source": [
        "model = SKLearn_Model(dataset_10, 0.2, \"tf-idf\", \"mnb\")\n",
        "model.evaluate_model()"
      ],
      "metadata": {
        "colab": {
          "base_uri": "https://localhost:8080/",
          "height": 661
        },
        "id": "A6PAMusxjhZi",
        "outputId": "912dc8d6-a7ef-4060-b354-6c7883ad66ef"
      },
      "execution_count": 178,
      "outputs": [
        {
          "output_type": "stream",
          "name": "stdout",
          "text": [
            "CPU times: user 66.3 ms, sys: 2.04 ms, total: 68.3 ms\n",
            "Wall time: 110 ms\n",
            "\n",
            "Best Parameter\n",
            "=====================================================\n",
            "{'alpha': 0.0001, 'fit_prior': False}\n",
            "\n",
            "Training Dataset\n",
            "=====================================================\n",
            "accuracy score  : 77.44360902255639\n",
            "precision score : 78.47791438979964\n",
            "recall score    : 79.49882075471699\n",
            "f1-score        : 77.36170212765958\n",
            "\n",
            "Testing Dataset\n",
            "=====================================================\n",
            "accuracy score  : 77.61194029850746\n",
            "precision score : 82.14285714285714\n",
            "recall score    : 81.25\n",
            "f1-score        : 77.59197324414716\n",
            "\n",
            "\n"
          ]
        },
        {
          "output_type": "display_data",
          "data": {
            "text/plain": [
              "<Figure size 432x288 with 2 Axes>"
            ],
            "image/png": "[encoded data removed]"
          },
          "metadata": {
            "needs_background": "light"
          }
        }
      ]
    },
    {
      "cell_type": "code",
      "source": [
        "model = SKLearn_Model(dataset_10, 0.3, \"tf-idf\", \"mnb\")\n",
        "model.evaluate_model()"
      ],
      "metadata": {
        "colab": {
          "base_uri": "https://localhost:8080/",
          "height": 665
        },
        "id": "6Nl9hXbljzvx",
        "outputId": "b1a53676-3126-46da-c724-f2fb88bd565a"
      },
      "execution_count": 179,
      "outputs": [
        {
          "output_type": "stream",
          "name": "stdout",
          "text": [
            "CPU times: user 71.4 ms, sys: 4.74 ms, total: 76.1 ms\n",
            "Wall time: 135 ms\n",
            "\n",
            "Best Parameter\n",
            "=====================================================\n",
            "{'alpha': 0.0001, 'fit_prior': False}\n",
            "\n",
            "Training Dataset\n",
            "=====================================================\n",
            "accuracy score  : 77.25321888412017\n",
            "precision score : 78.52678571428571\n",
            "recall score    : 79.44700460829492\n",
            "f1-score        : 77.19272324314342\n",
            "\n",
            "Testing Dataset\n",
            "=====================================================\n",
            "accuracy score  : 77.0\n",
            "precision score : 78.96776825785395\n",
            "recall score    : 79.58333333333334\n",
            "f1-score        : 76.9792813532179\n",
            "\n",
            "\n"
          ]
        },
        {
          "output_type": "display_data",
          "data": {
            "text/plain": [
              "<Figure size 432x288 with 2 Axes>"
            ],
            "image/png": "[encoded data removed]"
          },
          "metadata": {
            "needs_background": "light"
          }
        }
      ]
    },
    {
      "cell_type": "markdown",
      "source": [
        "### SVM with TF-IDF"
      ],
      "metadata": {
        "id": "lJTRNvOmkvy5"
      }
    },
    {
      "cell_type": "code",
      "source": [
        "model = SKLearn_Model(dataset, 0.2, \"tf-idf\", \"svm\")\n",
        "model.evaluate_model()"
      ],
      "metadata": {
        "colab": {
          "base_uri": "https://localhost:8080/",
          "height": 661
        },
        "id": "zG2LbEvkktR9",
        "outputId": "cd9d8ca9-1614-43d5-9a3c-1ac7527ad07d"
      },
      "execution_count": 180,
      "outputs": [
        {
          "output_type": "stream",
          "name": "stdout",
          "text": [
            "CPU times: user 481 ms, sys: 7.78 ms, total: 489 ms\n",
            "Wall time: 1.88 s\n",
            "\n",
            "Best Parameter\n",
            "=====================================================\n",
            "{'C': 10, 'gamma': 1, 'kernel': 'rbf'}\n",
            "\n",
            "Training Dataset\n",
            "=====================================================\n",
            "accuracy score  : 95.86466165413535\n",
            "precision score : 95.51510547536961\n",
            "recall score    : 95.92570754716981\n",
            "f1-score        : 95.70684469224562\n",
            "\n",
            "Testing Dataset\n",
            "=====================================================\n",
            "accuracy score  : 61.19402985074627\n",
            "precision score : 58.4045584045584\n",
            "recall score    : 55.46296296296296\n",
            "f1-score        : 53.670212765957444\n",
            "\n",
            "\n"
          ]
        },
        {
          "output_type": "display_data",
          "data": {
            "text/plain": [
              "<Figure size 432x288 with 2 Axes>"
            ],
            "image/png": "[encoded data removed]"
          },
          "metadata": {
            "needs_background": "light"
          }
        }
      ]
    },
    {
      "cell_type": "code",
      "source": [
        "model = SKLearn_Model(dataset, 0.3, \"tf-idf\", \"svm\")\n",
        "model.evaluate_model()"
      ],
      "metadata": {
        "colab": {
          "base_uri": "https://localhost:8080/",
          "height": 661
        },
        "id": "gnDEf7JYlAXU",
        "outputId": "d840b687-f895-44b3-da9d-a72437b1ae43"
      },
      "execution_count": 181,
      "outputs": [
        {
          "output_type": "stream",
          "name": "stdout",
          "text": [
            "CPU times: user 502 ms, sys: 4.96 ms, total: 507 ms\n",
            "Wall time: 1.67 s\n",
            "\n",
            "Best Parameter\n",
            "=====================================================\n",
            "{'C': 100, 'gamma': 1, 'kernel': 'rbf'}\n",
            "\n",
            "Training Dataset\n",
            "=====================================================\n",
            "accuracy score  : 95.70815450643777\n",
            "precision score : 96.11084868524642\n",
            "recall score    : 94.98463901689709\n",
            "f1-score        : 95.47397047397048\n",
            "\n",
            "Testing Dataset\n",
            "=====================================================\n",
            "accuracy score  : 56.99999999999999\n",
            "precision score : 46.336996336996336\n",
            "recall score    : 48.75\n",
            "f1-score        : 41.88403838356535\n",
            "\n",
            "\n"
          ]
        },
        {
          "output_type": "display_data",
          "data": {
            "text/plain": [
              "<Figure size 432x288 with 2 Axes>"
            ],
            "image/png": "[encoded data removed]"
          },
          "metadata": {
            "needs_background": "light"
          }
        }
      ]
    },
    {
      "cell_type": "code",
      "source": [
        "model = SKLearn_Model(dataset_10, 0.2, \"tf-idf\", \"svm\")\n",
        "model.evaluate_model()"
      ],
      "metadata": {
        "colab": {
          "base_uri": "https://localhost:8080/",
          "height": 665
        },
        "id": "4YC4Td3OliR3",
        "outputId": "0f96d567-a60c-46e0-cb09-e5bd906165a2"
      },
      "execution_count": 182,
      "outputs": [
        {
          "output_type": "stream",
          "name": "stdout",
          "text": [
            "CPU times: user 486 ms, sys: 12.2 ms, total: 498 ms\n",
            "Wall time: 1.63 s\n",
            "\n",
            "Best Parameter\n",
            "=====================================================\n",
            "{'C': 100, 'gamma': 1, 'kernel': 'rbf'}\n",
            "\n",
            "Training Dataset\n",
            "=====================================================\n",
            "accuracy score  : 94.3609022556391\n",
            "precision score : 93.88259226968904\n",
            "recall score    : 94.51650943396226\n",
            "f1-score        : 94.16282642089094\n",
            "\n",
            "Testing Dataset\n",
            "=====================================================\n",
            "accuracy score  : 61.19402985074627\n",
            "precision score : 58.52272727272727\n",
            "recall score    : 54.861111111111114\n",
            "f1-score        : 52.247807017543856\n",
            "\n",
            "\n"
          ]
        },
        {
          "output_type": "display_data",
          "data": {
            "text/plain": [
              "<Figure size 432x288 with 2 Axes>"
            ],
            "image/png": "[encoded data removed]"
          },
          "metadata": {
            "needs_background": "light"
          }
        }
      ]
    },
    {
      "cell_type": "code",
      "source": [
        "model = SKLearn_Model(dataset_10, 0.3, \"tf-idf\", \"svm\")\n",
        "model.evaluate_model()"
      ],
      "metadata": {
        "colab": {
          "base_uri": "https://localhost:8080/",
          "height": 661
        },
        "id": "poa9eiYolyC6",
        "outputId": "5d4401c6-2278-4a50-84de-8256ac920209"
      },
      "execution_count": 183,
      "outputs": [
        {
          "output_type": "stream",
          "name": "stdout",
          "text": [
            "CPU times: user 458 ms, sys: 17 ms, total: 475 ms\n",
            "Wall time: 1.45 s\n",
            "\n",
            "Best Parameter\n",
            "=====================================================\n",
            "{'C': 10, 'gamma': 0.001, 'kernel': 'linear'}\n",
            "\n",
            "Training Dataset\n",
            "=====================================================\n",
            "accuracy score  : 84.12017167381974\n",
            "precision score : 83.38197874569676\n",
            "recall score    : 84.25883256528418\n",
            "f1-score        : 83.68625224713786\n",
            "\n",
            "Testing Dataset\n",
            "=====================================================\n",
            "accuracy score  : 69.0\n",
            "precision score : 76.64796633941093\n",
            "recall score    : 73.75\n",
            "f1-score        : 68.74684948079444\n",
            "\n",
            "\n"
          ]
        },
        {
          "output_type": "display_data",
          "data": {
            "text/plain": [
              "<Figure size 432x288 with 2 Axes>"
            ],
            "image/png": "[encoded data removed]"
          },
          "metadata": {
            "needs_background": "light"
          }
        }
      ]
    },
    {
      "cell_type": "markdown",
      "source": [
        "### SVM with Word2Vec"
      ],
      "metadata": {
        "id": "Yi1jPrFemE8E"
      }
    },
    {
      "cell_type": "code",
      "source": [
        "model = SKLearn_Model(dataset, 0.2, \"w2v\", \"svm\")\n",
        "model.evaluate_model()"
      ],
      "metadata": {
        "colab": {
          "base_uri": "https://localhost:8080/",
          "height": 661
        },
        "id": "o2Gd_KTdmEBA",
        "outputId": "ee70d0dd-295f-429f-c40f-8b4b858870b7"
      },
      "execution_count": 184,
      "outputs": [
        {
          "output_type": "stream",
          "name": "stdout",
          "text": [
            "CPU times: user 509 ms, sys: 28.1 ms, total: 537 ms\n",
            "Wall time: 2.46 s\n",
            "\n",
            "Best Parameter\n",
            "=====================================================\n",
            "{'C': 100, 'gamma': 10, 'kernel': 'rbf'}\n",
            "\n",
            "Training Dataset\n",
            "=====================================================\n",
            "accuracy score  : 83.0827067669173\n",
            "precision score : 82.8071068862106\n",
            "recall score    : 84.18632075471699\n",
            "f1-score        : 82.84977433913603\n",
            "\n",
            "Testing Dataset\n",
            "=====================================================\n",
            "accuracy score  : 76.11940298507463\n",
            "precision score : 77.43243243243244\n",
            "recall score    : 78.19444444444444\n",
            "f1-score        : 76.07142857142857\n",
            "\n",
            "\n"
          ]
        },
        {
          "output_type": "display_data",
          "data": {
            "text/plain": [
              "<Figure size 432x288 with 2 Axes>"
            ],
            "image/png": "[encoded data removed]"
          },
          "metadata": {
            "needs_background": "light"
          }
        }
      ]
    },
    {
      "cell_type": "code",
      "source": [
        "model = SKLearn_Model(dataset, 0.3, \"w2v\", \"svm\")\n",
        "model.evaluate_model()"
      ],
      "metadata": {
        "colab": {
          "base_uri": "https://localhost:8080/",
          "height": 661
        },
        "id": "-IaQKEOhnEF_",
        "outputId": "507907b5-5a5e-492f-f8b0-67b430e92dba"
      },
      "execution_count": 185,
      "outputs": [
        {
          "output_type": "stream",
          "name": "stdout",
          "text": [
            "CPU times: user 813 ms, sys: 38.1 ms, total: 851 ms\n",
            "Wall time: 2.38 s\n",
            "\n",
            "Best Parameter\n",
            "=====================================================\n",
            "{'C': 100, 'gamma': 10, 'kernel': 'rbf'}\n",
            "\n",
            "Training Dataset\n",
            "=====================================================\n",
            "accuracy score  : 83.69098712446352\n",
            "precision score : 83.41814159292036\n",
            "recall score    : 84.80414746543778\n",
            "f1-score        : 83.46900672143391\n",
            "\n",
            "Testing Dataset\n",
            "=====================================================\n",
            "accuracy score  : 77.0\n",
            "precision score : 76.81072428971589\n",
            "recall score    : 77.91666666666666\n",
            "f1-score        : 76.7182913250329\n",
            "\n",
            "\n"
          ]
        },
        {
          "output_type": "display_data",
          "data": {
            "text/plain": [
              "<Figure size 432x288 with 2 Axes>"
            ],
            "image/png": "[encoded data removed]"
          },
          "metadata": {
            "needs_background": "light"
          }
        }
      ]
    },
    {
      "cell_type": "code",
      "source": [
        "model = SKLearn_Model(dataset_10, 0.2, \"w2v\", \"svm\")\n",
        "model.evaluate_model()"
      ],
      "metadata": {
        "colab": {
          "base_uri": "https://localhost:8080/",
          "height": 661
        },
        "id": "JwvRMjtUnPKI",
        "outputId": "6fc924fd-3904-4c56-83ba-e296f2337cdc"
      },
      "execution_count": 186,
      "outputs": [
        {
          "output_type": "stream",
          "name": "stdout",
          "text": [
            "CPU times: user 558 ms, sys: 48 ms, total: 606 ms\n",
            "Wall time: 2.63 s\n",
            "\n",
            "Best Parameter\n",
            "=====================================================\n",
            "{'C': 100, 'gamma': 10, 'kernel': 'rbf'}\n",
            "\n",
            "Training Dataset\n",
            "=====================================================\n",
            "accuracy score  : 79.69924812030075\n",
            "precision score : 80.31746031746032\n",
            "recall score    : 81.53301886792453\n",
            "f1-score        : 79.58383080334299\n",
            "\n",
            "Testing Dataset\n",
            "=====================================================\n",
            "accuracy score  : 79.1044776119403\n",
            "precision score : 81.54761904761905\n",
            "recall score    : 81.89814814814815\n",
            "f1-score        : 79.09982174688056\n",
            "\n",
            "\n"
          ]
        },
        {
          "output_type": "display_data",
          "data": {
            "text/plain": [
              "<Figure size 432x288 with 2 Axes>"
            ],
            "image/png": "[encoded data removed]"
          },
          "metadata": {
            "needs_background": "light"
          }
        }
      ]
    },
    {
      "cell_type": "code",
      "source": [
        "model = SKLearn_Model(dataset_10, 0.3, \"w2v\", \"svm\")\n",
        "model.evaluate_model()"
      ],
      "metadata": {
        "colab": {
          "base_uri": "https://localhost:8080/",
          "height": 661
        },
        "id": "R-PJ0g7VnX1h",
        "outputId": "1b166c04-1766-416f-f85f-5f4aa08019a4"
      },
      "execution_count": 187,
      "outputs": [
        {
          "output_type": "stream",
          "name": "stdout",
          "text": [
            "CPU times: user 509 ms, sys: 25.5 ms, total: 535 ms\n",
            "Wall time: 2.04 s\n",
            "\n",
            "Best Parameter\n",
            "=====================================================\n",
            "{'C': 100, 'gamma': 10, 'kernel': 'rbf'}\n",
            "\n",
            "Training Dataset\n",
            "=====================================================\n",
            "accuracy score  : 80.25751072961373\n",
            "precision score : 80.91648189209164\n",
            "recall score    : 82.12749615975422\n",
            "f1-score        : 80.15185185185184\n",
            "\n",
            "Testing Dataset\n",
            "=====================================================\n",
            "accuracy score  : 78.0\n",
            "precision score : 78.44551282051282\n",
            "recall score    : 79.58333333333334\n",
            "f1-score        : 77.85829307568439\n",
            "\n",
            "\n"
          ]
        },
        {
          "output_type": "display_data",
          "data": {
            "text/plain": [
              "<Figure size 432x288 with 2 Axes>"
            ],
            "image/png": "[encoded data removed]"
          },
          "metadata": {
            "needs_background": "light"
          }
        }
      ]
    },
    {
      "cell_type": "markdown",
      "source": [
        "### SVM with Doc2Vec"
      ],
      "metadata": {
        "id": "O5YszBk8nwH5"
      }
    },
    {
      "cell_type": "code",
      "source": [
        "model = SKLearn_Model(dataset, 0.2, \"d2v\", \"svm\")\n",
        "model.evaluate_model()"
      ],
      "metadata": {
        "colab": {
          "base_uri": "https://localhost:8080/",
          "height": 661
        },
        "id": "2197fA7eoS_0",
        "outputId": "da3271e3-23c7-410c-c131-7a84d76e6da4"
      },
      "execution_count": 188,
      "outputs": [
        {
          "output_type": "stream",
          "name": "stdout",
          "text": [
            "CPU times: user 529 ms, sys: 15.8 ms, total: 545 ms\n",
            "Wall time: 3.44 s\n",
            "\n",
            "Best Parameter\n",
            "=====================================================\n",
            "{'C': 100, 'gamma': 0.01, 'kernel': 'rbf'}\n",
            "\n",
            "Training Dataset\n",
            "=====================================================\n",
            "accuracy score  : 85.71428571428571\n",
            "precision score : 84.98850574712644\n",
            "recall score    : 85.89622641509433\n",
            "f1-score        : 85.31240918337693\n",
            "\n",
            "Testing Dataset\n",
            "=====================================================\n",
            "accuracy score  : 77.61194029850746\n",
            "precision score : 76.8918918918919\n",
            "recall score    : 77.63888888888889\n",
            "f1-score        : 77.10184552289815\n",
            "\n",
            "\n"
          ]
        },
        {
          "output_type": "display_data",
          "data": {
            "text/plain": [
              "<Figure size 432x288 with 2 Axes>"
            ],
            "image/png": "[encoded data removed]"
          },
          "metadata": {
            "needs_background": "light"
          }
        }
      ]
    },
    {
      "cell_type": "code",
      "source": [
        "model = SKLearn_Model(dataset, 0.3, \"d2v\", \"svm\")\n",
        "model.evaluate_model()"
      ],
      "metadata": {
        "colab": {
          "base_uri": "https://localhost:8080/",
          "height": 661
        },
        "id": "8ioK_M0oocfI",
        "outputId": "ac17e174-40d7-4c88-a92e-6937bb81bbbd"
      },
      "execution_count": 189,
      "outputs": [
        {
          "output_type": "stream",
          "name": "stdout",
          "text": [
            "CPU times: user 488 ms, sys: 13.4 ms, total: 502 ms\n",
            "Wall time: 3.07 s\n",
            "\n",
            "Best Parameter\n",
            "=====================================================\n",
            "{'C': 100, 'gamma': 0.01, 'kernel': 'rbf'}\n",
            "\n",
            "Training Dataset\n",
            "=====================================================\n",
            "accuracy score  : 84.97854077253218\n",
            "precision score : 84.34853662160155\n",
            "recall score    : 85.51459293394778\n",
            "f1-score        : 84.6517230346489\n",
            "\n",
            "Testing Dataset\n",
            "=====================================================\n",
            "accuracy score  : 78.0\n",
            "precision score : 77.0935960591133\n",
            "recall score    : 77.5\n",
            "f1-score        : 77.26333195535344\n",
            "\n",
            "\n"
          ]
        },
        {
          "output_type": "display_data",
          "data": {
            "text/plain": [
              "<Figure size 432x288 with 2 Axes>"
            ],
            "image/png": "[encoded data removed]"
          },
          "metadata": {
            "needs_background": "light"
          }
        }
      ]
    },
    {
      "cell_type": "code",
      "source": [
        "model = SKLearn_Model(dataset_10, 0.2, \"d2v\", \"svm\")\n",
        "model.evaluate_model()"
      ],
      "metadata": {
        "colab": {
          "base_uri": "https://localhost:8080/",
          "height": 661
        },
        "id": "rWh73X38o9sA",
        "outputId": "2d1829f4-fdcd-4b34-c5de-48d3ade625e8"
      },
      "execution_count": 190,
      "outputs": [
        {
          "output_type": "stream",
          "name": "stdout",
          "text": [
            "CPU times: user 477 ms, sys: 19.2 ms, total: 496 ms\n",
            "Wall time: 2.08 s\n",
            "\n",
            "Best Parameter\n",
            "=====================================================\n",
            "{'C': 10, 'gamma': 0.001, 'kernel': 'linear'}\n",
            "\n",
            "Training Dataset\n",
            "=====================================================\n",
            "accuracy score  : 81.203007518797\n",
            "precision score : 81.1284486657621\n",
            "recall score    : 82.46462264150944\n",
            "f1-score        : 80.99239695878352\n",
            "\n",
            "Testing Dataset\n",
            "=====================================================\n",
            "accuracy score  : 85.07462686567165\n",
            "precision score : 84.93761140819964\n",
            "recall score    : 86.29629629629629\n",
            "f1-score        : 84.90990990990991\n",
            "\n",
            "\n"
          ]
        },
        {
          "output_type": "display_data",
          "data": {
            "text/plain": [
              "<Figure size 432x288 with 2 Axes>"
            ],
            "image/png": "[encoded data removed]"
          },
          "metadata": {
            "needs_background": "light"
          }
        }
      ]
    },
    {
      "cell_type": "code",
      "source": [
        "model = SKLearn_Model(dataset_10, 0.3, \"d2v\", \"svm\")\n",
        "model.evaluate_model()"
      ],
      "metadata": {
        "colab": {
          "base_uri": "https://localhost:8080/",
          "height": 665
        },
        "id": "DAJ4j7YrpHDW",
        "outputId": "3344ecc4-dc59-4901-fed7-fa727b103b07"
      },
      "execution_count": 191,
      "outputs": [
        {
          "output_type": "stream",
          "name": "stdout",
          "text": [
            "CPU times: user 490 ms, sys: 11.9 ms, total: 502 ms\n",
            "Wall time: 1.79 s\n",
            "\n",
            "Best Parameter\n",
            "=====================================================\n",
            "{'C': 100, 'gamma': 0.001, 'kernel': 'linear'}\n",
            "\n",
            "Training Dataset\n",
            "=====================================================\n",
            "accuracy score  : 81.97424892703863\n",
            "precision score : 81.56845369960124\n",
            "recall score    : 82.83410138248848\n",
            "f1-score        : 81.69061517736867\n",
            "\n",
            "Testing Dataset\n",
            "=====================================================\n",
            "accuracy score  : 83.0\n",
            "precision score : 82.23174214606284\n",
            "recall score    : 82.91666666666666\n",
            "f1-score        : 82.49407887962104\n",
            "\n",
            "\n"
          ]
        },
        {
          "output_type": "display_data",
          "data": {
            "text/plain": [
              "<Figure size 432x288 with 2 Axes>"
            ],
            "image/png": "[encoded data removed]"
          },
          "metadata": {
            "needs_background": "light"
          }
        }
      ]
    },
    {
      "cell_type": "code",
      "source": [
        "mod = SKLearn_Model(df, 0.2, \"d2v\", \"svm\")\n",
        "mod.evaluate_model()"
      ],
      "metadata": {
        "colab": {
          "base_uri": "https://localhost:8080/",
          "height": 665
        },
        "id": "hB1x2CGaxHW0",
        "outputId": "ec5acd8b-a4ab-4de3-afef-d1c298f6cb20"
      },
      "execution_count": 192,
      "outputs": [
        {
          "output_type": "stream",
          "name": "stdout",
          "text": [
            "CPU times: user 518 ms, sys: 12.6 ms, total: 530 ms\n",
            "Wall time: 3.11 s\n",
            "\n",
            "Best Parameter\n",
            "=====================================================\n",
            "{'C': 10, 'gamma': 'auto', 'kernel': 'rbf'}\n",
            "\n",
            "Training Dataset\n",
            "=====================================================\n",
            "accuracy score  : 98.1203007518797\n",
            "precision score : 97.96920002351143\n",
            "recall score    : 98.1191037735849\n",
            "f1-score        : 98.04259202025108\n",
            "\n",
            "Testing Dataset\n",
            "=====================================================\n",
            "accuracy score  : 67.16417910447761\n",
            "precision score : 66.1524500907441\n",
            "recall score    : 66.48148148148148\n",
            "f1-score        : 66.25457875457876\n",
            "\n",
            "\n"
          ]
        },
        {
          "output_type": "display_data",
          "data": {
            "text/plain": [
              "<Figure size 432x288 with 2 Axes>"
            ],
            "image/png": "[encoded data removed]"
          },
          "metadata": {
            "needs_background": "light"
          }
        }
      ]
    }
  ]
}